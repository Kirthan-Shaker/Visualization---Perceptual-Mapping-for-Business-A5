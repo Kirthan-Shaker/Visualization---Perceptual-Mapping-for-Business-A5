{
 "cells": [
  {
   "cell_type": "code",
   "execution_count": 96,
   "id": "902151ea",
   "metadata": {
    "scrolled": true
   },
   "outputs": [
    {
     "name": "stdout",
     "output_type": "stream",
     "text": [
      "Collecting geopandas\n",
      "  Obtaining dependency information for geopandas from https://files.pythonhosted.org/packages/c4/64/7d344cfcef5efddf9cf32f59af7f855828e9d74b5f862eddf5bfd9f25323/geopandas-1.0.1-py3-none-any.whl.metadata\n",
      "  Downloading geopandas-1.0.1-py3-none-any.whl.metadata (2.2 kB)\n",
      "Requirement already satisfied: numpy>=1.22 in ./anaconda3/lib/python3.11/site-packages (from geopandas) (1.24.3)\n",
      "Collecting pyogrio>=0.7.2 (from geopandas)\n",
      "  Obtaining dependency information for pyogrio>=0.7.2 from https://files.pythonhosted.org/packages/21/c2/f4ce7e004550a1ff74c83465fb9d11507f2d77dfab54203320e68fcd3c90/pyogrio-0.9.0-cp311-cp311-macosx_12_0_arm64.whl.metadata\n",
      "  Downloading pyogrio-0.9.0-cp311-cp311-macosx_12_0_arm64.whl.metadata (3.8 kB)\n",
      "Requirement already satisfied: packaging in ./anaconda3/lib/python3.11/site-packages (from geopandas) (23.1)\n",
      "Requirement already satisfied: pandas>=1.4.0 in ./anaconda3/lib/python3.11/site-packages (from geopandas) (2.0.3)\n",
      "Collecting pyproj>=3.3.0 (from geopandas)\n",
      "  Obtaining dependency information for pyproj>=3.3.0 from https://files.pythonhosted.org/packages/30/bd/b9bd3761f08754e8dbb34c5a647db2099b348ab5da338e90980caf280e37/pyproj-3.6.1-cp311-cp311-macosx_11_0_arm64.whl.metadata\n",
      "  Downloading pyproj-3.6.1-cp311-cp311-macosx_11_0_arm64.whl.metadata (31 kB)\n",
      "Collecting shapely>=2.0.0 (from geopandas)\n",
      "  Obtaining dependency information for shapely>=2.0.0 from https://files.pythonhosted.org/packages/80/68/6b51b7587547f6bbd0965cf957505a0ebec93510e840572a983003b3a0a9/shapely-2.0.5-cp311-cp311-macosx_11_0_arm64.whl.metadata\n",
      "  Downloading shapely-2.0.5-cp311-cp311-macosx_11_0_arm64.whl.metadata (7.0 kB)\n",
      "Requirement already satisfied: python-dateutil>=2.8.2 in ./anaconda3/lib/python3.11/site-packages (from pandas>=1.4.0->geopandas) (2.8.2)\n",
      "Requirement already satisfied: pytz>=2020.1 in ./anaconda3/lib/python3.11/site-packages (from pandas>=1.4.0->geopandas) (2023.3.post1)\n",
      "Requirement already satisfied: tzdata>=2022.1 in ./anaconda3/lib/python3.11/site-packages (from pandas>=1.4.0->geopandas) (2023.3)\n",
      "Requirement already satisfied: certifi in ./anaconda3/lib/python3.11/site-packages (from pyogrio>=0.7.2->geopandas) (2023.7.22)\n",
      "Requirement already satisfied: six>=1.5 in ./anaconda3/lib/python3.11/site-packages (from python-dateutil>=2.8.2->pandas>=1.4.0->geopandas) (1.16.0)\n",
      "Downloading geopandas-1.0.1-py3-none-any.whl (323 kB)\n",
      "\u001b[2K   \u001b[90m━━━━━━━━━━━━━━━━━━━━━━━━━━━━━━━━━━━━━━━━\u001b[0m \u001b[32m323.6/323.6 kB\u001b[0m \u001b[31m1.1 MB/s\u001b[0m eta \u001b[36m0:00:00\u001b[0ma \u001b[36m0:00:01\u001b[0m\n",
      "\u001b[?25hDownloading pyogrio-0.9.0-cp311-cp311-macosx_12_0_arm64.whl (14.8 MB)\n",
      "\u001b[2K   \u001b[90m━━━━━━━━━━━━━━━━━━━━━━━━━━━━━━━━━━━━━━━━\u001b[0m \u001b[32m14.8/14.8 MB\u001b[0m \u001b[31m230.8 kB/s\u001b[0m eta \u001b[36m0:00:00\u001b[0m00:01\u001b[0m00:02\u001b[0m\n",
      "\u001b[?25hDownloading pyproj-3.6.1-cp311-cp311-macosx_11_0_arm64.whl (4.9 MB)\n",
      "\u001b[2K   \u001b[90m━━━━━━━━━━━━━━━━━━━━━━━━━━━━━━━━━━━━━━━━\u001b[0m \u001b[32m4.9/4.9 MB\u001b[0m \u001b[31m235.3 kB/s\u001b[0m eta \u001b[36m0:00:00\u001b[0m00:01\u001b[0m00:01\u001b[0m\n",
      "\u001b[?25hDownloading shapely-2.0.5-cp311-cp311-macosx_11_0_arm64.whl (1.3 MB)\n",
      "\u001b[2K   \u001b[90m━━━━━━━━━━━━━━━━━━━━━━━━━━━━━━━━━━━━━━━━\u001b[0m \u001b[32m1.3/1.3 MB\u001b[0m \u001b[31m161.5 kB/s\u001b[0m eta \u001b[36m0:00:00\u001b[0m00:01\u001b[0m00:01\u001b[0m\n",
      "\u001b[?25hInstalling collected packages: shapely, pyproj, pyogrio, geopandas\n",
      "Successfully installed geopandas-1.0.1 pyogrio-0.9.0 pyproj-3.6.1 shapely-2.0.5\n",
      "Note: you may need to restart the kernel to use updated packages.\n"
     ]
    }
   ],
   "source": [
    "pip install geopandas"
   ]
  },
  {
   "cell_type": "code",
   "execution_count": null,
   "id": "3c567c97",
   "metadata": {},
   "outputs": [],
   "source": [
    "import geopandas as gpd"
   ]
  },
  {
   "cell_type": "code",
   "execution_count": 70,
   "id": "33b92ee6",
   "metadata": {
    "scrolled": true
   },
   "outputs": [
    {
     "name": "stdout",
     "output_type": "stream",
     "text": [
      "Collecting geojson\n",
      "  Obtaining dependency information for geojson from https://files.pythonhosted.org/packages/8e/1b/4f57660aa148d3e3043d048b7e1ab87dfeb85204d0fdb5b4e19c08202162/geojson-3.1.0-py3-none-any.whl.metadata\n",
      "  Downloading geojson-3.1.0-py3-none-any.whl.metadata (16 kB)\n",
      "Downloading geojson-3.1.0-py3-none-any.whl (15 kB)\n",
      "Installing collected packages: geojson\n",
      "Successfully installed geojson-3.1.0\n"
     ]
    }
   ],
   "source": [
    "!pip install geojson"
   ]
  },
  {
   "cell_type": "code",
   "execution_count": 97,
   "id": "074d5f3e",
   "metadata": {
    "scrolled": true
   },
   "outputs": [],
   "source": [
    "import pandas as pd\n",
    "import numpy as np\n",
    "from scipy import stats\n",
    "import matplotlib.pyplot as plt\n",
    "import seaborn as sns\n",
    "import geopandas as gpd"
   ]
  },
  {
   "cell_type": "code",
   "execution_count": 72,
   "id": "0b75ce7a",
   "metadata": {},
   "outputs": [],
   "source": [
    "data = pd.read_csv(\"/Users/kirthanshaker/Desktop/SCMA 631 Data Files /NSSO68.csv\", low_memory=False)"
   ]
  },
  {
   "cell_type": "code",
   "execution_count": 73,
   "id": "271122e3",
   "metadata": {
    "scrolled": true
   },
   "outputs": [
    {
     "data": {
      "text/html": [
       "<div>\n",
       "<style scoped>\n",
       "    .dataframe tbody tr th:only-of-type {\n",
       "        vertical-align: middle;\n",
       "    }\n",
       "\n",
       "    .dataframe tbody tr th {\n",
       "        vertical-align: top;\n",
       "    }\n",
       "\n",
       "    .dataframe thead th {\n",
       "        text-align: right;\n",
       "    }\n",
       "</style>\n",
       "<table border=\"1\" class=\"dataframe\">\n",
       "  <thead>\n",
       "    <tr style=\"text-align: right;\">\n",
       "      <th></th>\n",
       "      <th>slno</th>\n",
       "      <th>grp</th>\n",
       "      <th>Round_Centre</th>\n",
       "      <th>FSU_number</th>\n",
       "      <th>Round</th>\n",
       "      <th>Schedule_Number</th>\n",
       "      <th>Sample</th>\n",
       "      <th>Sector</th>\n",
       "      <th>state</th>\n",
       "      <th>State_Region</th>\n",
       "      <th>...</th>\n",
       "      <th>pickle_v</th>\n",
       "      <th>sauce_jam_v</th>\n",
       "      <th>Othrprocessed_v</th>\n",
       "      <th>Beveragestotal_v</th>\n",
       "      <th>foodtotal_v</th>\n",
       "      <th>foodtotal_q</th>\n",
       "      <th>state_1</th>\n",
       "      <th>Region</th>\n",
       "      <th>fruits_df_tt_v</th>\n",
       "      <th>fv_tot</th>\n",
       "    </tr>\n",
       "  </thead>\n",
       "  <tbody>\n",
       "    <tr>\n",
       "      <th>0</th>\n",
       "      <td>1</td>\n",
       "      <td>4.10E+31</td>\n",
       "      <td>1</td>\n",
       "      <td>41000</td>\n",
       "      <td>68</td>\n",
       "      <td>10</td>\n",
       "      <td>1</td>\n",
       "      <td>2</td>\n",
       "      <td>24</td>\n",
       "      <td>242</td>\n",
       "      <td>...</td>\n",
       "      <td>0.0</td>\n",
       "      <td>0.0</td>\n",
       "      <td>0.0</td>\n",
       "      <td>0.000000</td>\n",
       "      <td>1141.492400</td>\n",
       "      <td>30.942394</td>\n",
       "      <td>GUJ</td>\n",
       "      <td>2</td>\n",
       "      <td>12.000000</td>\n",
       "      <td>154.180000</td>\n",
       "    </tr>\n",
       "    <tr>\n",
       "      <th>1</th>\n",
       "      <td>2</td>\n",
       "      <td>4.10E+31</td>\n",
       "      <td>1</td>\n",
       "      <td>41000</td>\n",
       "      <td>68</td>\n",
       "      <td>10</td>\n",
       "      <td>1</td>\n",
       "      <td>2</td>\n",
       "      <td>24</td>\n",
       "      <td>242</td>\n",
       "      <td>...</td>\n",
       "      <td>0.0</td>\n",
       "      <td>0.0</td>\n",
       "      <td>0.0</td>\n",
       "      <td>17.500000</td>\n",
       "      <td>1244.553500</td>\n",
       "      <td>29.286153</td>\n",
       "      <td>GUJ</td>\n",
       "      <td>2</td>\n",
       "      <td>333.000000</td>\n",
       "      <td>484.950000</td>\n",
       "    </tr>\n",
       "    <tr>\n",
       "      <th>2</th>\n",
       "      <td>3</td>\n",
       "      <td>4.10E+31</td>\n",
       "      <td>1</td>\n",
       "      <td>41000</td>\n",
       "      <td>68</td>\n",
       "      <td>10</td>\n",
       "      <td>1</td>\n",
       "      <td>2</td>\n",
       "      <td>24</td>\n",
       "      <td>242</td>\n",
       "      <td>...</td>\n",
       "      <td>0.0</td>\n",
       "      <td>0.0</td>\n",
       "      <td>0.0</td>\n",
       "      <td>0.000000</td>\n",
       "      <td>1050.315400</td>\n",
       "      <td>31.527046</td>\n",
       "      <td>GUJ</td>\n",
       "      <td>2</td>\n",
       "      <td>35.000000</td>\n",
       "      <td>214.840000</td>\n",
       "    </tr>\n",
       "    <tr>\n",
       "      <th>3</th>\n",
       "      <td>4</td>\n",
       "      <td>4.10E+31</td>\n",
       "      <td>1</td>\n",
       "      <td>41000</td>\n",
       "      <td>68</td>\n",
       "      <td>10</td>\n",
       "      <td>1</td>\n",
       "      <td>2</td>\n",
       "      <td>24</td>\n",
       "      <td>242</td>\n",
       "      <td>...</td>\n",
       "      <td>0.0</td>\n",
       "      <td>0.0</td>\n",
       "      <td>0.0</td>\n",
       "      <td>33.333333</td>\n",
       "      <td>1142.591667</td>\n",
       "      <td>27.834607</td>\n",
       "      <td>GUJ</td>\n",
       "      <td>2</td>\n",
       "      <td>168.333333</td>\n",
       "      <td>302.300000</td>\n",
       "    </tr>\n",
       "    <tr>\n",
       "      <th>4</th>\n",
       "      <td>5</td>\n",
       "      <td>4.10E+31</td>\n",
       "      <td>1</td>\n",
       "      <td>41000</td>\n",
       "      <td>68</td>\n",
       "      <td>10</td>\n",
       "      <td>1</td>\n",
       "      <td>2</td>\n",
       "      <td>24</td>\n",
       "      <td>242</td>\n",
       "      <td>...</td>\n",
       "      <td>0.0</td>\n",
       "      <td>0.0</td>\n",
       "      <td>0.0</td>\n",
       "      <td>75.000000</td>\n",
       "      <td>945.249500</td>\n",
       "      <td>27.600713</td>\n",
       "      <td>GUJ</td>\n",
       "      <td>2</td>\n",
       "      <td>15.000000</td>\n",
       "      <td>148.000000</td>\n",
       "    </tr>\n",
       "    <tr>\n",
       "      <th>...</th>\n",
       "      <td>...</td>\n",
       "      <td>...</td>\n",
       "      <td>...</td>\n",
       "      <td>...</td>\n",
       "      <td>...</td>\n",
       "      <td>...</td>\n",
       "      <td>...</td>\n",
       "      <td>...</td>\n",
       "      <td>...</td>\n",
       "      <td>...</td>\n",
       "      <td>...</td>\n",
       "      <td>...</td>\n",
       "      <td>...</td>\n",
       "      <td>...</td>\n",
       "      <td>...</td>\n",
       "      <td>...</td>\n",
       "      <td>...</td>\n",
       "      <td>...</td>\n",
       "      <td>...</td>\n",
       "      <td>...</td>\n",
       "      <td>...</td>\n",
       "    </tr>\n",
       "    <tr>\n",
       "      <th>101657</th>\n",
       "      <td>101658</td>\n",
       "      <td>8.00E+31</td>\n",
       "      <td>1</td>\n",
       "      <td>79998</td>\n",
       "      <td>68</td>\n",
       "      <td>10</td>\n",
       "      <td>1</td>\n",
       "      <td>1</td>\n",
       "      <td>1</td>\n",
       "      <td>12</td>\n",
       "      <td>...</td>\n",
       "      <td>0.0</td>\n",
       "      <td>0.0</td>\n",
       "      <td>0.0</td>\n",
       "      <td>0.000000</td>\n",
       "      <td>544.013667</td>\n",
       "      <td>28.441750</td>\n",
       "      <td>J$K</td>\n",
       "      <td>2</td>\n",
       "      <td>0.000000</td>\n",
       "      <td>25.833333</td>\n",
       "    </tr>\n",
       "    <tr>\n",
       "      <th>101658</th>\n",
       "      <td>101659</td>\n",
       "      <td>8.00E+31</td>\n",
       "      <td>1</td>\n",
       "      <td>79998</td>\n",
       "      <td>68</td>\n",
       "      <td>10</td>\n",
       "      <td>1</td>\n",
       "      <td>1</td>\n",
       "      <td>1</td>\n",
       "      <td>12</td>\n",
       "      <td>...</td>\n",
       "      <td>0.0</td>\n",
       "      <td>0.0</td>\n",
       "      <td>0.0</td>\n",
       "      <td>8.000000</td>\n",
       "      <td>417.616600</td>\n",
       "      <td>25.490282</td>\n",
       "      <td>J$K</td>\n",
       "      <td>2</td>\n",
       "      <td>0.000000</td>\n",
       "      <td>49.000000</td>\n",
       "    </tr>\n",
       "    <tr>\n",
       "      <th>101659</th>\n",
       "      <td>101660</td>\n",
       "      <td>8.00E+31</td>\n",
       "      <td>1</td>\n",
       "      <td>79998</td>\n",
       "      <td>68</td>\n",
       "      <td>10</td>\n",
       "      <td>1</td>\n",
       "      <td>1</td>\n",
       "      <td>1</td>\n",
       "      <td>12</td>\n",
       "      <td>...</td>\n",
       "      <td>0.0</td>\n",
       "      <td>0.0</td>\n",
       "      <td>0.0</td>\n",
       "      <td>7.142857</td>\n",
       "      <td>378.300429</td>\n",
       "      <td>25.800107</td>\n",
       "      <td>J$K</td>\n",
       "      <td>2</td>\n",
       "      <td>0.000000</td>\n",
       "      <td>32.285714</td>\n",
       "    </tr>\n",
       "    <tr>\n",
       "      <th>101660</th>\n",
       "      <td>101661</td>\n",
       "      <td>8.00E+31</td>\n",
       "      <td>1</td>\n",
       "      <td>79998</td>\n",
       "      <td>68</td>\n",
       "      <td>10</td>\n",
       "      <td>1</td>\n",
       "      <td>1</td>\n",
       "      <td>1</td>\n",
       "      <td>12</td>\n",
       "      <td>...</td>\n",
       "      <td>0.0</td>\n",
       "      <td>0.0</td>\n",
       "      <td>0.0</td>\n",
       "      <td>14.000000</td>\n",
       "      <td>510.023600</td>\n",
       "      <td>30.220170</td>\n",
       "      <td>J$K</td>\n",
       "      <td>2</td>\n",
       "      <td>0.000000</td>\n",
       "      <td>39.200000</td>\n",
       "    </tr>\n",
       "    <tr>\n",
       "      <th>101661</th>\n",
       "      <td>101662</td>\n",
       "      <td>8.00E+31</td>\n",
       "      <td>1</td>\n",
       "      <td>79998</td>\n",
       "      <td>68</td>\n",
       "      <td>10</td>\n",
       "      <td>1</td>\n",
       "      <td>1</td>\n",
       "      <td>1</td>\n",
       "      <td>12</td>\n",
       "      <td>...</td>\n",
       "      <td>0.0</td>\n",
       "      <td>0.0</td>\n",
       "      <td>0.0</td>\n",
       "      <td>8.571429</td>\n",
       "      <td>424.589714</td>\n",
       "      <td>26.157279</td>\n",
       "      <td>J$K</td>\n",
       "      <td>2</td>\n",
       "      <td>0.000000</td>\n",
       "      <td>39.714286</td>\n",
       "    </tr>\n",
       "  </tbody>\n",
       "</table>\n",
       "<p>101662 rows × 384 columns</p>\n",
       "</div>"
      ],
      "text/plain": [
       "          slno       grp  Round_Centre  FSU_number  Round  Schedule_Number  \\\n",
       "0            1  4.10E+31             1       41000     68               10   \n",
       "1            2  4.10E+31             1       41000     68               10   \n",
       "2            3  4.10E+31             1       41000     68               10   \n",
       "3            4  4.10E+31             1       41000     68               10   \n",
       "4            5  4.10E+31             1       41000     68               10   \n",
       "...        ...       ...           ...         ...    ...              ...   \n",
       "101657  101658  8.00E+31             1       79998     68               10   \n",
       "101658  101659  8.00E+31             1       79998     68               10   \n",
       "101659  101660  8.00E+31             1       79998     68               10   \n",
       "101660  101661  8.00E+31             1       79998     68               10   \n",
       "101661  101662  8.00E+31             1       79998     68               10   \n",
       "\n",
       "        Sample  Sector  state  State_Region  ...  pickle_v  sauce_jam_v  \\\n",
       "0            1       2     24           242  ...       0.0          0.0   \n",
       "1            1       2     24           242  ...       0.0          0.0   \n",
       "2            1       2     24           242  ...       0.0          0.0   \n",
       "3            1       2     24           242  ...       0.0          0.0   \n",
       "4            1       2     24           242  ...       0.0          0.0   \n",
       "...        ...     ...    ...           ...  ...       ...          ...   \n",
       "101657       1       1      1            12  ...       0.0          0.0   \n",
       "101658       1       1      1            12  ...       0.0          0.0   \n",
       "101659       1       1      1            12  ...       0.0          0.0   \n",
       "101660       1       1      1            12  ...       0.0          0.0   \n",
       "101661       1       1      1            12  ...       0.0          0.0   \n",
       "\n",
       "        Othrprocessed_v  Beveragestotal_v  foodtotal_v  foodtotal_q  state_1  \\\n",
       "0                   0.0          0.000000  1141.492400    30.942394      GUJ   \n",
       "1                   0.0         17.500000  1244.553500    29.286153      GUJ   \n",
       "2                   0.0          0.000000  1050.315400    31.527046      GUJ   \n",
       "3                   0.0         33.333333  1142.591667    27.834607      GUJ   \n",
       "4                   0.0         75.000000   945.249500    27.600713      GUJ   \n",
       "...                 ...               ...          ...          ...      ...   \n",
       "101657              0.0          0.000000   544.013667    28.441750      J$K   \n",
       "101658              0.0          8.000000   417.616600    25.490282      J$K   \n",
       "101659              0.0          7.142857   378.300429    25.800107      J$K   \n",
       "101660              0.0         14.000000   510.023600    30.220170      J$K   \n",
       "101661              0.0          8.571429   424.589714    26.157279      J$K   \n",
       "\n",
       "        Region  fruits_df_tt_v      fv_tot  \n",
       "0            2       12.000000  154.180000  \n",
       "1            2      333.000000  484.950000  \n",
       "2            2       35.000000  214.840000  \n",
       "3            2      168.333333  302.300000  \n",
       "4            2       15.000000  148.000000  \n",
       "...        ...             ...         ...  \n",
       "101657       2        0.000000   25.833333  \n",
       "101658       2        0.000000   49.000000  \n",
       "101659       2        0.000000   32.285714  \n",
       "101660       2        0.000000   39.200000  \n",
       "101661       2        0.000000   39.714286  \n",
       "\n",
       "[101662 rows x 384 columns]"
      ]
     },
     "metadata": {},
     "output_type": "display_data"
    }
   ],
   "source": [
    "display(data)"
   ]
  },
  {
   "cell_type": "code",
   "execution_count": 74,
   "id": "00be2699",
   "metadata": {},
   "outputs": [],
   "source": [
    "Kerala_data = data[data['state_1'] == 'KE']"
   ]
  },
  {
   "cell_type": "code",
   "execution_count": 75,
   "id": "eea77fb0",
   "metadata": {},
   "outputs": [
    {
     "name": "stdout",
     "output_type": "stream",
     "text": [
      "Missing values in each column:\n",
      "slno              0\n",
      "grp               0\n",
      "Round_Centre      0\n",
      "FSU_number        0\n",
      "Round             0\n",
      "                 ..\n",
      "foodtotal_q       0\n",
      "state_1           0\n",
      "Region            0\n",
      "fruits_df_tt_v    0\n",
      "fv_tot            0\n",
      "Length: 384, dtype: int64\n"
     ]
    }
   ],
   "source": [
    "missing_values = Kerala_data.isna().sum()\n",
    "print(\"Missing values in each column:\")\n",
    "print(missing_values)"
   ]
  },
  {
   "cell_type": "code",
   "execution_count": 76,
   "id": "68cd0da6",
   "metadata": {},
   "outputs": [],
   "source": [
    "KE = Kerala_data[['state_1', 'District', 'Region', 'Sector', 'State_Region', 'Meals_At_Home', 'ricepds_v', 'Wheatpds_q', 'chicken_q', 'pulsep_q', 'wheatos_q', 'No_of_Meals_per_day']]"
   ]
  },
  {
   "cell_type": "code",
   "execution_count": 77,
   "id": "b0acc38f",
   "metadata": {},
   "outputs": [],
   "source": [
    "def impute_with_mean(column):\n",
    "    if column.hasnans:\n",
    "        column.fillna(column.mean(), inplace=True)\n",
    "    return column"
   ]
  },
  {
   "cell_type": "code",
   "execution_count": 78,
   "id": "18966c3e",
   "metadata": {},
   "outputs": [
    {
     "name": "stderr",
     "output_type": "stream",
     "text": [
      "/var/folders/zp/kxmfwbvj3vx9t44_bg3nv0v40000gn/T/ipykernel_45475/2826044316.py:3: SettingWithCopyWarning: \n",
      "A value is trying to be set on a copy of a slice from a DataFrame\n",
      "\n",
      "See the caveats in the documentation: https://pandas.pydata.org/pandas-docs/stable/user_guide/indexing.html#returning-a-view-versus-a-copy\n",
      "  column.fillna(column.mean(), inplace=True)\n",
      "/var/folders/zp/kxmfwbvj3vx9t44_bg3nv0v40000gn/T/ipykernel_45475/2585691173.py:1: SettingWithCopyWarning: \n",
      "A value is trying to be set on a copy of a slice from a DataFrame.\n",
      "Try using .loc[row_indexer,col_indexer] = value instead\n",
      "\n",
      "See the caveats in the documentation: https://pandas.pydata.org/pandas-docs/stable/user_guide/indexing.html#returning-a-view-versus-a-copy\n",
      "  KE['Meals_At_Home'] = impute_with_mean(KE['Meals_At_Home'])\n"
     ]
    }
   ],
   "source": [
    "KE['Meals_At_Home'] = impute_with_mean(KE['Meals_At_Home'])"
   ]
  },
  {
   "cell_type": "code",
   "execution_count": 79,
   "id": "786b1f7c",
   "metadata": {},
   "outputs": [],
   "source": [
    "def remove_outliers(df, column_name):\n",
    "    Q1 = df[column_name].quantile(0.25)\n",
    "    Q3 = df[column_name].quantile(0.75)\n",
    "    IQR = Q3 - Q1\n",
    "    lower_threshold = Q1 - (1.5 * IQR)\n",
    "    upper_threshold = Q3 + (1.5 * IQR)\n",
    "    df = df[(df[column_name] >= lower_threshold) & (df[column_name] <= upper_threshold)]\n",
    "    return df\n",
    "\n",
    "outlier_columns = ['ricepds_v', 'chicken_q']\n",
    "for col in outlier_columns:\n",
    "    KE = remove_outliers(KE, col)"
   ]
  },
  {
   "cell_type": "code",
   "execution_count": 80,
   "id": "415cfbae",
   "metadata": {},
   "outputs": [],
   "source": [
    "KE['total_consumption'] = KE[['ricepds_v', 'Wheatpds_q', 'chicken_q', 'pulsep_q', 'wheatos_q']].sum(axis=1)"
   ]
  },
  {
   "cell_type": "code",
   "execution_count": 81,
   "id": "1746cb59",
   "metadata": {},
   "outputs": [],
   "source": [
    "def summarize_consumption(group_col):\n",
    "    summary = KE.groupby(group_col)['total_consumption'].sum().reset_index()\n",
    "    summary.sort_values(by='total_consumption', ascending=False, inplace=True)\n",
    "    return summary"
   ]
  },
  {
   "cell_type": "code",
   "execution_count": 82,
   "id": "f17244a9",
   "metadata": {},
   "outputs": [],
   "source": [
    "district_summary = summarize_consumption('District')\n",
    "region_summary = summarize_consumption('Region')"
   ]
  },
  {
   "cell_type": "code",
   "execution_count": 83,
   "id": "962ebe90",
   "metadata": {},
   "outputs": [
    {
     "name": "stdout",
     "output_type": "stream",
     "text": [
      "Top Consuming Districts:\n",
      "    District  total_consumption\n",
      "13        14        2328.076288\n",
      "3          4        2123.501309\n",
      "1          2        1896.350831\n",
      "6          7        1885.952009\n",
      "Region Consumption Summary:\n",
      "   Region  total_consumption\n",
      "1       2       11496.811972\n",
      "0       1        9142.431659\n"
     ]
    }
   ],
   "source": [
    "print(\"Top Consuming Districts:\")\n",
    "print(district_summary.head(4))\n",
    "print(\"Region Consumption Summary:\")\n",
    "print(region_summary)"
   ]
  },
  {
   "cell_type": "code",
   "execution_count": 84,
   "id": "81f357fc",
   "metadata": {},
   "outputs": [],
   "source": [
    "district = {'1': 'Kasaragod',\n",
    "    '2': 'Kannur',\n",
    "    '3': 'Wayand',\n",
    "    '4': 'Kozhikode',\n",
    "    '5': 'Malappuram',\n",
    "    '6': 'Palakkad',\n",
    "    '7': 'Thrissur',\n",
    "    '8': 'Eranakulam',\n",
    "    '9': 'Idukki',\n",
    "   '10': 'Kottayam',\n",
    "   '11': 'Alappuzha',\n",
    "   '12': 'Pathanamthitta',\n",
    "   '13': 'Kollam',\n",
    "   '14': 'Thiruvanathapuram',         \n",
    "}\n",
    "\n",
    "sector = {\n",
    "    '2': 'URBAN',\n",
    "    '1': 'RURAL'\n",
    "}"
   ]
  },
  {
   "cell_type": "code",
   "execution_count": 85,
   "id": "a6f3d3e3",
   "metadata": {},
   "outputs": [],
   "source": [
    "KE.loc[:, 'District'] = KE['District'].astype(str)\n",
    "KE.loc[:, 'Sector'] = KE['Sector'].astype(str)\n",
    "KE.loc[:, 'District'] = KE['District'].map(district).fillna(KE['District'])\n",
    "KE.loc[:, 'Sector'] = KE['Sector'].map(sector).fillna(KE['Sector'])"
   ]
  },
  {
   "cell_type": "code",
   "execution_count": 86,
   "id": "74e995e7",
   "metadata": {},
   "outputs": [],
   "source": [
    "KE['District'] = KE['District'].astype(str)\n",
    "KE['Sector'] = KE['Sector'].astype(str)\n",
    "\n",
    "KE['District'] = KE['District'].map(district).fillna(KE['District'])\n",
    "KE['Sector'] = KE['Sector'].map(sector).fillna(KE['Sector'])"
   ]
  },
  {
   "cell_type": "code",
   "execution_count": 87,
   "id": "942b1c7f",
   "metadata": {},
   "outputs": [
    {
     "name": "stdout",
     "output_type": "stream",
     "text": [
      "      state_1    District  Region Sector  State_Region  Meals_At_Home  \\\n",
      "23436      KE  Malappuram       1  URBAN           321      83.483812   \n",
      "23437      KE  Malappuram       1  URBAN           321      89.000000   \n",
      "23438      KE  Malappuram       1  URBAN           321      90.000000   \n",
      "23439      KE  Malappuram       1  URBAN           321      77.000000   \n",
      "23440      KE  Malappuram       1  URBAN           321      88.000000   \n",
      "\n",
      "       ricepds_v  Wheatpds_q  chicken_q  pulsep_q  wheatos_q  \\\n",
      "23436        4.0         0.0   0.666667  0.016667   0.666667   \n",
      "23437        4.0         0.5   1.125000  0.050000   1.000000   \n",
      "23438        0.0         0.0   1.000000  0.016667   0.333333   \n",
      "23439        0.0         0.0   1.000000  0.050000   1.500000   \n",
      "23440        0.0         0.0   0.333333  0.016667   0.500000   \n",
      "\n",
      "       No_of_Meals_per_day  total_consumption  \n",
      "23436                  3.0              5.350  \n",
      "23437                  3.0              6.675  \n",
      "23438                  3.0              1.350  \n",
      "23439                  3.0              2.550  \n",
      "23440                  3.0              0.850  \n"
     ]
    }
   ],
   "source": [
    "print(KE.head())"
   ]
  },
  {
   "cell_type": "code",
   "execution_count": 88,
   "id": "43b2b8bf",
   "metadata": {},
   "outputs": [
    {
     "name": "stdout",
     "output_type": "stream",
     "text": [
      "Index(['state_1', 'District', 'Region', 'Sector', 'State_Region',\n",
      "       'Meals_At_Home', 'ricepds_v', 'Wheatpds_q', 'chicken_q', 'pulsep_q',\n",
      "       'wheatos_q', 'No_of_Meals_per_day', 'total_consumption'],\n",
      "      dtype='object')\n"
     ]
    }
   ],
   "source": [
    "print(KE.columns)"
   ]
  },
  {
   "cell_type": "code",
   "execution_count": 89,
   "id": "af58bade",
   "metadata": {
    "scrolled": true
   },
   "outputs": [
    {
     "data": {
      "image/png": "[encoded data removed]",
      "text/plain": [
       "<Figure size 640x480 with 1 Axes>"
      ]
     },
     "metadata": {},
     "output_type": "display_data"
    }
   ],
   "source": [
    "plt.hist(KE['total_consumption'], bins=10, color='blue', edgecolor='black')\n",
    "plt.xlabel(\"Consumption\")\n",
    "plt.ylabel(\"Frequency\")\n",
    "plt.title(\"Consumption Distribution in Kerala State\")\n",
    "plt.show()"
   ]
  },
  {
   "cell_type": "code",
   "execution_count": 90,
   "id": "a68fd888",
   "metadata": {},
   "outputs": [],
   "source": [
    "KE_consumption = KE.groupby('District')['total_consumption'].sum().reset_index()"
   ]
  },
  {
   "cell_type": "code",
   "execution_count": 91,
   "id": "d4563672",
   "metadata": {},
   "outputs": [
    {
     "name": "stdout",
     "output_type": "stream",
     "text": [
      "     District  total_consumption\n",
      "0   Alappuzha        1378.539983\n",
      "1  Eranakulam        1755.480476\n",
      "2      Idukki         734.516746\n",
      "3      Kannur        1896.350831\n",
      "4   Kasaragod        1207.148675\n"
     ]
    }
   ],
   "source": [
    "print(KE_consumption.head())"
   ]
  },
  {
   "cell_type": "code",
   "execution_count": 92,
   "id": "39e24639",
   "metadata": {},
   "outputs": [
    {
     "data": {
      "image/png": "[encoded data removed]",
      "text/plain": [
       "<Figure size 640x480 with 1 Axes>"
      ]
     },
     "metadata": {},
     "output_type": "display_data"
    }
   ],
   "source": [
    "plt.bar(KE_consumption['District'], KE_consumption['total_consumption'], color='blue', edgecolor='black')\n",
    "plt.xlabel(\"District\")\n",
    "plt.ylabel(\"Total Consumption\")\n",
    "plt.title(\"Total Consumption per District\")\n",
    "plt.xticks(rotation=90)  # Rotate district names for better visibility\n",
    "plt.show()"
   ]
  },
  {
   "cell_type": "code",
   "execution_count": 98,
   "id": "64b58b12",
   "metadata": {
    "scrolled": false
   },
   "outputs": [],
   "source": [
    "data_map = gpd.read_file(\"/Users/kirthanshaker/Desktop/SCMA 631 Data Files /KERALA_DISTRICTS (1).geojson\")"
   ]
  },
  {
   "cell_type": "code",
   "execution_count": 99,
   "id": "d8c36fc8",
   "metadata": {},
   "outputs": [
    {
     "name": "stdout",
     "output_type": "stream",
     "text": [
      "Index(['dtname', 'stname', 'stcode11', 'dtcode11', 'year_stat', 'Shape_Length',\n",
      "       'Shape_Area', 'OBJECTID', 'test', 'Dist_LGD', 'State_LGD', 'geometry'],\n",
      "      dtype='object')\n",
      "Index(['District', 'total_consumption'], dtype='object')\n"
     ]
    }
   ],
   "source": [
    "print(data_map.columns)\n",
    "print(KE_consumption.columns)"
   ]
  },
  {
   "cell_type": "code",
   "execution_count": 100,
   "id": "7678b4a2",
   "metadata": {},
   "outputs": [],
   "source": [
    "data_map['District'] = KE_consumption['District']"
   ]
  },
  {
   "cell_type": "code",
   "execution_count": 101,
   "id": "b5cfb266",
   "metadata": {},
   "outputs": [],
   "source": [
    "data_map_data = data_map.merge(KE_consumption, left_on='dtname', right_on='District')"
   ]
  },
  {
   "cell_type": "code",
   "execution_count": 102,
   "id": "9978bf7c",
   "metadata": {},
   "outputs": [
    {
     "name": "stdout",
     "output_type": "stream",
     "text": [
      "Index(['dtname', 'stname', 'stcode11', 'dtcode11', 'year_stat', 'Shape_Length',\n",
      "       'Shape_Area', 'OBJECTID', 'test', 'Dist_LGD', 'State_LGD', 'geometry',\n",
      "       'District'],\n",
      "      dtype='object')\n"
     ]
    }
   ],
   "source": [
    "print(data_map.columns)"
   ]
  },
  {
   "cell_type": "code",
   "execution_count": 103,
   "id": "1e858bb5",
   "metadata": {},
   "outputs": [],
   "source": [
    "import geopandas as gpd\n",
    "import pandas as pd\n",
    "import matplotlib.pyplot as plt"
   ]
  },
  {
   "cell_type": "code",
   "execution_count": 104,
   "id": "eaa7d6a0",
   "metadata": {},
   "outputs": [],
   "source": [
    "data_map = gpd.read_file(\"/Users/kirthanshaker/Desktop/SCMA 631 Data Files /KERALA_DISTRICTS (1).geojson\")"
   ]
  },
  {
   "cell_type": "code",
   "execution_count": 105,
   "id": "f1f75b30",
   "metadata": {},
   "outputs": [],
   "source": [
    "data_map = data_map.rename(columns={'dtname': 'District'})"
   ]
  },
  {
   "cell_type": "code",
   "execution_count": 106,
   "id": "9bc61185",
   "metadata": {},
   "outputs": [
    {
     "data": {
      "text/plain": [
       "<bound method DataFrame.rename of               District  stname stcode11 dtcode11 year_stat   Shape_Length  \\\n",
       "0            Kasaragod  KERALA       32      588    2011_c  382258.965224   \n",
       "1              Wayanad  KERALA       32      590    2011_c  292261.797789   \n",
       "2            Kozhikode  KERALA       32      591    2011_c  298776.567326   \n",
       "3           Malappuram  KERALA       32      592    2011_c  409487.628759   \n",
       "4             Palakkad  KERALA       32      593    2011_c  551293.272056   \n",
       "5             Thrissur  KERALA       32      594    2011_c  397475.610728   \n",
       "6               Idukki  KERALA       32      596    2011_c  570539.472994   \n",
       "7            Ernakulam  KERALA       32      595    2011_c  412906.029329   \n",
       "8            Alappuzha  KERALA       32      598    2011_c  299423.689877   \n",
       "9             Kottayam  KERALA       32      597    2011_c  321896.971631   \n",
       "10      Pathanamthitta  KERALA       32      599    2011_c  406371.586244   \n",
       "11              Kollam  KERALA       32      600    2011_c  349910.199376   \n",
       "12  Thiruvananthapuram  KERALA       32      601    2011_c  286375.498107   \n",
       "13              Kannur  KERALA       32      589    2011_c  346881.951323   \n",
       "\n",
       "      Shape_Area  OBJECTID  test  Dist_LGD  State_LGD  \\\n",
       "0   2.078638e+09        90     0       558         32   \n",
       "1   2.240878e+09        96     1       567         32   \n",
       "2   2.451416e+09        99     0       561         32   \n",
       "3   3.710887e+09       101     0       562         32   \n",
       "4   4.671520e+09       108     0       563         32   \n",
       "5   3.147926e+09       112     0       566         32   \n",
       "6   4.518944e+09       114     0       556         32   \n",
       "7   3.170929e+09       115     0       555         32   \n",
       "8   1.465198e+09       118     0       554         32   \n",
       "9   2.282535e+09       119     0       560         32   \n",
       "10  2.738526e+09       121     0       564         32   \n",
       "11  2.564590e+09       124     0       559         32   \n",
       "12  2.247286e+09       125     0       565         32   \n",
       "13  3.108326e+09       184     0       557         32   \n",
       "\n",
       "                                             geometry  \n",
       "0   POLYGON ((74.98962 12.79555, 74.98905 12.79554...  \n",
       "1   POLYGON ((76.11246 11.97768, 76.11248 11.9788,...  \n",
       "2   POLYGON ((75.76571 11.80265, 75.76495 11.80278...  \n",
       "3   POLYGON ((76.23422 11.5277, 76.23391 11.5277, ...  \n",
       "4   POLYGON ((76.71929 11.22745, 76.7058 11.24044,...  \n",
       "5   POLYGON ((76.18989 10.78189, 76.18856 10.7819,...  \n",
       "6   POLYGON ((77.18089 10.35755, 77.17599 10.35857...  \n",
       "7   POLYGON ((76.57702 10.30238, 76.57646 10.30246...  \n",
       "8   POLYGON ((76.29748 9.89165, 76.29585 9.89172, ...  \n",
       "9   POLYGON ((76.62536 9.85665, 76.62389 9.85752, ...  \n",
       "10  POLYGON ((76.67578 9.48423, 76.67573 9.4843, 7...  \n",
       "11  POLYGON ((76.93026 9.17391, 76.92989 9.17427, ...  \n",
       "12  POLYGON ((76.7828 8.86194, 76.78261 8.86203, 7...  \n",
       "13  POLYGON ((75.39207 12.2902, 75.39165 12.29051,...  >"
      ]
     },
     "metadata": {},
     "output_type": "display_data"
    }
   ],
   "source": [
    "display(data_map.rename)"
   ]
  },
  {
   "cell_type": "code",
   "execution_count": 108,
   "id": "451226f1",
   "metadata": {},
   "outputs": [],
   "source": [
    "KE_consumption = pd.read_csv(\"/Users/kirthanshaker/Desktop/SCMA 631 Data Files /KERALA_DISTRICTS (1).geojson\", low_memory=False)"
   ]
  },
  {
   "cell_type": "code",
   "execution_count": 109,
   "id": "f4b52750",
   "metadata": {},
   "outputs": [],
   "source": [
    "KE_consumption = KE.groupby('District')['total_consumption'].sum().reset_index()"
   ]
  },
  {
   "cell_type": "code",
   "execution_count": 110,
   "id": "7c583103",
   "metadata": {},
   "outputs": [
    {
     "name": "stdout",
     "output_type": "stream",
     "text": [
      "     District  total_consumption\n",
      "0   Alappuzha        1378.539983\n",
      "1  Eranakulam        1755.480476\n",
      "2      Idukki         734.516746\n",
      "3      Kannur        1896.350831\n",
      "4   Kasaragod        1207.148675\n"
     ]
    }
   ],
   "source": [
    "print(KE_consumption.head())"
   ]
  },
  {
   "cell_type": "code",
   "execution_count": 113,
   "id": "2ad40879",
   "metadata": {},
   "outputs": [],
   "source": [
    "data_map = gpd.read_file(\"/Users/kirthanshaker/Desktop/SCMA 631 Data Files /KERALA_DISTRICTS (1).geojson\")\n",
    "data_map = data_map.rename(columns={'dtname': 'total_consumption'})"
   ]
  },
  {
   "cell_type": "code",
   "execution_count": 114,
   "id": "cb40836c",
   "metadata": {},
   "outputs": [
    {
     "data": {
      "image/png": "[encoded data removed]",
      "text/plain": [
       "<Figure size 640x480 with 1 Axes>"
      ]
     },
     "metadata": {},
     "output_type": "display_data"
    }
   ],
   "source": [
    "fig, ax = plt.subplots(1, 1)\n",
    "data_map.plot(column='total_consumption', cmap='viridis', legend=True, ax=ax)\n",
    "ax.set_title('Total Consumption by District in Kerala')\n",
    "plt.show()"
   ]
  },
  {
   "cell_type": "code",
   "execution_count": null,
   "id": "e237b688",
   "metadata": {},
   "outputs": [],
   "source": []
  }
 ],
 "metadata": {
  "kernelspec": {
   "display_name": "Python 3 (ipykernel)",
   "language": "python",
   "name": "python3"
  },
  "language_info": {
   "codemirror_mode": {
    "name": "ipython",
    "version": 3
   },
   "file_extension": ".py",
   "mimetype": "text/x-python",
   "name": "python",
   "nbconvert_exporter": "python",
   "pygments_lexer": "ipython3",
   "version": "3.11.5"
  }
 },
 "nbformat": 4,
 "nbformat_minor": 5
}
